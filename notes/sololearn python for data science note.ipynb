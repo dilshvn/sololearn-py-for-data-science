{
 "cells": [
  {
   "cell_type": "markdown",
   "metadata": {},
   "source": [
    "# Sololearn: Python for Data Science"
   ]
  },
  {
   "cell_type": "markdown",
   "metadata": {},
   "source": [
    "### Measures of Central Tendancy"
   ]
  },
  {
   "cell_type": "markdown",
   "metadata": {},
   "source": [
    "Mean is the average value of the dataset. Median is the middle value of an ordered dataset<br>\n",
    "Median is more useful than mean because mean can vary widely due to one value that is lot larger/smaller than others."
   ]
  },
  {
   "cell_type": "markdown",
   "metadata": {},
   "source": [
    "### Standard Deviation"
   ]
  },
  {
   "cell_type": "markdown",
   "metadata": {},
   "source": [
    "Standard deviation is a measure of how spread the data is. Standard deviation  is the square root of variance.<br>\n",
    "If standard deviation is 17.1 and mean is 33.1, values that are within one standard deviation is said to be between (33.1-17.1) and (33.1+17.1)<br>\n",
    "Low standard deviation means values tend to be close to the mean and vise versa"
   ]
  },
  {
   "cell_type": "markdown",
   "metadata": {},
   "source": [
    "### NumPy (Numerical Python)"
   ]
  },
  {
   "cell_type": "markdown",
   "metadata": {},
   "source": [
    "To use NumPy, first import the library"
   ]
  },
  {
   "cell_type": "code",
   "execution_count": 1,
   "metadata": {},
   "outputs": [],
   "source": [
    "import numpy as np"
   ]
  },
  {
   "cell_type": "markdown",
   "metadata": {},
   "source": [
    "### NumPy Arrays"
   ]
  },
  {
   "cell_type": "markdown",
   "metadata": {},
   "source": [
    "NumPy arrays are faster and more compact than lists. They are homogeneous, meaning only single data type elements can be stored. NumPy array can be created as follows"
   ]
  },
  {
   "cell_type": "code",
   "execution_count": 2,
   "metadata": {},
   "outputs": [],
   "source": [
    "x = np.array([1, 2, 3, 4])"
   ]
  },
  {
   "cell_type": "markdown",
   "metadata": {},
   "source": [
    "Their elements can be accessed using indexes"
   ]
  },
  {
   "cell_type": "code",
   "execution_count": 3,
   "metadata": {},
   "outputs": [
    {
     "name": "stdout",
     "output_type": "stream",
     "text": [
      "1\n"
     ]
    }
   ],
   "source": [
    "print(x[0])"
   ]
  },
  {
   "cell_type": "markdown",
   "metadata": {},
   "source": [
    "NumPy arrays are called ndarrays, meaning ‘N-dimensional arrays’, because they can have multiple dimensions"
   ]
  },
  {
   "cell_type": "code",
   "execution_count": 4,
   "metadata": {},
   "outputs": [
    {
     "name": "stdout",
     "output_type": "stream",
     "text": [
      "6\n"
     ]
    }
   ],
   "source": [
    "x = np.array([[1, 2, 3], [4, 5, 6], [7, 8, 9]])\n",
    "print(x[1][2])"
   ]
  },
  {
   "cell_type": "markdown",
   "metadata": {},
   "source": [
    "This is a 2d array which has 3 rows and 3 columns"
   ]
  },
  {
   "cell_type": "markdown",
   "metadata": {},
   "source": [
    "### NumPy Array Properties"
   ]
  },
  {
   "cell_type": "code",
   "execution_count": 5,
   "metadata": {},
   "outputs": [
    {
     "name": "stdout",
     "output_type": "stream",
     "text": [
      "2\n",
      "9\n",
      "(3, 3)\n"
     ]
    }
   ],
   "source": [
    "x = np.array([[1, 2, 3], [4, 5, 6], [7, 8, 9]])\n",
    "\n",
    "print(x.ndim)\n",
    "print(x.size)\n",
    "print(x.shape)"
   ]
  },
  {
   "cell_type": "markdown",
   "metadata": {},
   "source": [
    "ndim returns number of dimensions of array. size returns total number of elements of array.<br>\n",
    "shape returns a tuple of integers that indicate the number of elements stored in each dimension of the array. Here, (3, 3) means 3 rows and 3 columns in this 2d array.<br>\n",
    "We can add, remove and sort using np.append(), np.delete(), and np.sort()"
   ]
  },
  {
   "cell_type": "code",
   "execution_count": 6,
   "metadata": {},
   "outputs": [
    {
     "name": "stdout",
     "output_type": "stream",
     "text": [
      "[1 3 4]\n"
     ]
    }
   ],
   "source": [
    "import numpy as np\n",
    "\n",
    "x = np.array([2, 1, 3])\n",
    "\n",
    "x = np.append(x, 4)\n",
    "x = np.delete(x, 0)\n",
    "x = np.sort(x)\n",
    "\n",
    "print(x)"
   ]
  },
  {
   "cell_type": "markdown",
   "metadata": {},
   "source": [
    "np.delete() deletes the element of the given index and np.append() appends the given element<br>\n",
    "np.arange() creates an array that has a range of numbers similar to python range"
   ]
  },
  {
   "cell_type": "code",
   "execution_count": 8,
   "metadata": {},
   "outputs": [
    {
     "name": "stdout",
     "output_type": "stream",
     "text": [
      "[2 5 8]\n"
     ]
    }
   ],
   "source": [
    "import numpy as np\n",
    "\n",
    "x = np.arange(2, 10, 3)\n",
    "print(x)"
   ]
  },
  {
   "cell_type": "markdown",
   "metadata": {},
   "source": [
    "### Reshape"
   ]
  },
  {
   "cell_type": "code",
   "execution_count": 9,
   "metadata": {},
   "outputs": [
    {
     "name": "stdout",
     "output_type": "stream",
     "text": [
      "[[1 2]\n",
      " [3 4]\n",
      " [5 6]]\n"
     ]
    }
   ],
   "source": [
    "import numpy as np\n",
    "\n",
    "x = np.arange(1, 7)\n",
    "\n",
    "z = x.reshape(3, 2)\n",
    "\n",
    "print(z) "
   ]
  },
  {
   "cell_type": "markdown",
   "metadata": {},
   "source": [
    "Here, 1d array containing 6 elements is reshaped to 2d array with 3 rows and 2 columns. Number of elements should be same at reshaping. <br>\n",
    "Reshape can also do the opposite"
   ]
  },
  {
   "cell_type": "code",
   "execution_count": 10,
   "metadata": {},
   "outputs": [
    {
     "name": "stdout",
     "output_type": "stream",
     "text": [
      "[1 2 3 4 5 6]\n"
     ]
    }
   ],
   "source": [
    "import numpy as np\n",
    "\n",
    "x = np.array([[1, 2], [3, 4], [5, 6]])\n",
    "\n",
    "z = x.reshape(6)\n",
    "\n",
    "print(z)"
   ]
  },
  {
   "cell_type": "markdown",
   "metadata": {},
   "source": [
    "Here, 2d array is reshaped to a 1d array. This flat array can also be achieved using flatten() function"
   ]
  },
  {
   "cell_type": "markdown",
   "metadata": {},
   "source": [
    "### Indexing and Slicing"
   ]
  },
  {
   "cell_type": "markdown",
   "metadata": {},
   "source": [
    "Can be indexed and sliced similar to Python lists"
   ]
  },
  {
   "cell_type": "code",
   "execution_count": 11,
   "metadata": {},
   "outputs": [
    {
     "name": "stdout",
     "output_type": "stream",
     "text": [
      "[1 2]\n",
      "[6 7 8 9]\n",
      "[1 2]\n",
      "[7 8 9]\n"
     ]
    }
   ],
   "source": [
    "import numpy as np\n",
    "\n",
    "x = np.arange(1, 10)\n",
    "\n",
    "print(x[0:2])\n",
    "print(x[5:])\n",
    "print(x[:2])\n",
    "print(x[-3:])"
   ]
  },
  {
   "cell_type": "markdown",
   "metadata": {},
   "source": [
    "### Conditions"
   ]
  },
  {
   "cell_type": "markdown",
   "metadata": {},
   "source": [
    "Here, elements that are less than 4 are selected"
   ]
  },
  {
   "cell_type": "code",
   "execution_count": 12,
   "metadata": {},
   "outputs": [
    {
     "name": "stdout",
     "output_type": "stream",
     "text": [
      "[1 2 3]\n"
     ]
    }
   ],
   "source": [
    "import numpy as np\n",
    "\n",
    "x = np.arange(1, 10)\n",
    "\n",
    "print(x[x<4]) #[1 2 3]"
   ]
  },
  {
   "cell_type": "markdown",
   "metadata": {},
   "source": [
    "& and | can be used with conditions"
   ]
  },
  {
   "cell_type": "code",
   "execution_count": 13,
   "metadata": {},
   "outputs": [
    {
     "name": "stdout",
     "output_type": "stream",
     "text": [
      "[6 8]\n"
     ]
    }
   ],
   "source": [
    "import numpy as np\n",
    "\n",
    "x = np.arange(1, 10)\n",
    "\n",
    "print(x[(x>5) & (x%2==0)])"
   ]
  },
  {
   "cell_type": "markdown",
   "metadata": {},
   "source": [
    "### Operations"
   ]
  },
  {
   "cell_type": "markdown",
   "metadata": {},
   "source": [
    "sum() is used to find sum of all elements"
   ]
  },
  {
   "cell_type": "code",
   "execution_count": 14,
   "metadata": {},
   "outputs": [
    {
     "name": "stdout",
     "output_type": "stream",
     "text": [
      "45\n"
     ]
    }
   ],
   "source": [
    "import numpy as np\n",
    "\n",
    "x = np.arange(1, 10)\n",
    "print(x.sum())"
   ]
  },
  {
   "cell_type": "markdown",
   "metadata": {},
   "source": [
    "min(), max() is used to find smallest and largest elements"
   ]
  },
  {
   "cell_type": "markdown",
   "metadata": {},
   "source": [
    "### Broadcasting"
   ]
  },
  {
   "cell_type": "markdown",
   "metadata": {},
   "source": [
    "Performing given operation with each element is called broadcasting"
   ]
  },
  {
   "cell_type": "code",
   "execution_count": 15,
   "metadata": {},
   "outputs": [
    {
     "name": "stdout",
     "output_type": "stream",
     "text": [
      "[ 2  4  6  8 10 12 14 16 18]\n"
     ]
    }
   ],
   "source": [
    "import numpy as np\n",
    "\n",
    "x = np.arange(1, 10)\n",
    "y = x*2\n",
    "\n",
    "print(y)"
   ]
  },
  {
   "cell_type": "markdown",
   "metadata": {},
   "source": [
    "### Statistics with NumPy\n",
    "NumPy has direct dunctions for statistics"
   ]
  },
  {
   "cell_type": "code",
   "execution_count": 16,
   "metadata": {},
   "outputs": [
    {
     "name": "stdout",
     "output_type": "stream",
     "text": [
      "33.111111111111114\n",
      "26.0\n",
      "292.5432098765432\n",
      "17.10389458212787\n"
     ]
    }
   ],
   "source": [
    "import numpy as np\n",
    "\n",
    "x = np.array([14, 18, 19, 24, 26, 33, 42, 55, 67])\n",
    "\n",
    "print(np.mean(x))\n",
    "print(np.median(x))\n",
    "print(np.var(x))\n",
    "print(np.std(x))"
   ]
  },
  {
   "cell_type": "markdown",
   "metadata": {},
   "source": [
    "### Pandas (Panel Data)\n",
    "\n",
    "Pandas is used to read, extract data from files and transform, analyze, calculate statistics, etc<br>\n",
    "First, import pandas to use"
   ]
  },
  {
   "cell_type": "code",
   "execution_count": null,
   "metadata": {},
   "outputs": [],
   "source": [
    "import pandas as pd"
   ]
  },
  {
   "cell_type": "markdown",
   "metadata": {},
   "source": [
    "### Series and DataFrames\n",
    "\n",
    "A series is a column while dataframe is a multi-dimensional table consisting of a collection of series<br>\n",
    "Series is  a 1d array and dataframe is a multi-dimensional array\n",
    "\n",
    "### Creating a DataFrame\n",
    "Let’s use a dictionary to create a dataframe"
   ]
  },
  {
   "cell_type": "code",
   "execution_count": 17,
   "metadata": {},
   "outputs": [
    {
     "name": "stdout",
     "output_type": "stream",
     "text": [
      "   ages  heights\n",
      "0    14      165\n",
      "1    18      180\n",
      "2    24      176\n",
      "3    42      184\n"
     ]
    }
   ],
   "source": [
    "import pandas as pd\n",
    "\n",
    "data = {\n",
    "   'ages': [14, 18, 24, 42],\n",
    "   'heights': [165, 180, 176, 184]\n",
    "}\n",
    "\n",
    "df = pd.DataFrame(data)\n",
    "print(df)"
   ]
  },
  {
   "cell_type": "markdown",
   "metadata": {},
   "source": [
    "This dataframe has 2 columns. Dataframe automatically creates a numeric index for each row. We can specify a custom index."
   ]
  },
  {
   "cell_type": "code",
   "execution_count": 18,
   "metadata": {},
   "outputs": [
    {
     "name": "stdout",
     "output_type": "stream",
     "text": [
      "       ages  heights\n",
      "James    14      165\n",
      "Bob      18      180\n",
      "Amy      24      176\n",
      "Dave     42      184\n"
     ]
    }
   ],
   "source": [
    "import pandas as pd\n",
    "\n",
    "data = {\n",
    "   'ages': [14, 18, 24, 42],\n",
    "   'heights': [165, 180, 176, 184]\n",
    "}\n",
    "\n",
    "df = pd.DataFrame(data, index=['James', 'Bob', 'Amy', 'Dave'])\n",
    "print(df)"
   ]
  },
  {
   "cell_type": "markdown",
   "metadata": {},
   "source": [
    "We can access a row using its index and loc[] function"
   ]
  },
  {
   "cell_type": "code",
   "execution_count": 19,
   "metadata": {},
   "outputs": [
    {
     "name": "stdout",
     "output_type": "stream",
     "text": [
      "ages        18\n",
      "heights    180\n",
      "Name: Bob, dtype: int64\n"
     ]
    }
   ],
   "source": [
    "import pandas as pd\n",
    "\n",
    "data = {\n",
    "   'ages': [14, 18, 24, 42],\n",
    "   'heights': [165, 180, 176, 184]\n",
    "}\n",
    "\n",
    "df = pd.DataFrame(data, index=['James', 'Bob', 'Amy', 'Dave'])\n",
    "print(df.loc[\"Bob\"])"
   ]
  },
  {
   "cell_type": "markdown",
   "metadata": {},
   "source": [
    "This will show data related to Bob such as age and height."
   ]
  },
  {
   "cell_type": "markdown",
   "metadata": {},
   "source": [
    "### Indexing\n",
    "\n",
    "We can print a column (series) using column name"
   ]
  },
  {
   "cell_type": "code",
   "execution_count": 20,
   "metadata": {},
   "outputs": [
    {
     "name": "stdout",
     "output_type": "stream",
     "text": [
      "James    14\n",
      "Bob      18\n",
      "Amy      24\n",
      "Dave     42\n",
      "Name: ages, dtype: int64\n"
     ]
    }
   ],
   "source": [
    "import pandas as pd\n",
    "\n",
    "data = {\n",
    "   'ages': [14, 18, 24, 42],\n",
    "   'heights': [165, 180, 176, 184]\n",
    "}\n",
    "\n",
    "df = pd.DataFrame(data, index=['James', 'Bob', 'Amy', 'Dave'])\n",
    "\n",
    "print(df[\"ages\"])"
   ]
  },
  {
   "cell_type": "markdown",
   "metadata": {},
   "source": [
    "To print multiple columns (dataframe), specify column names"
   ]
  },
  {
   "cell_type": "code",
   "execution_count": 3,
   "metadata": {},
   "outputs": [
    {
     "name": "stdout",
     "output_type": "stream",
     "text": [
      "       ages  heights\n",
      "James    14      165\n",
      "Bob      18      180\n",
      "Amy      24      176\n",
      "Dave     42      184\n"
     ]
    }
   ],
   "source": [
    "import pandas as pd\n",
    "\n",
    "data = {\n",
    "   'ages': [14, 18, 24, 42],\n",
    "   'heights': [165, 180, 176, 184]\n",
    "}\n",
    "\n",
    "df = pd.DataFrame(data, index=['James', 'Bob', 'Amy', 'Dave'])\n",
    "\n",
    "print(df[[\"ages\", \"heights\"]])"
   ]
  },
  {
   "cell_type": "markdown",
   "metadata": {},
   "source": [
    "### Slicing\n",
    "\n",
    "Uses iloc function to slice data based on numeric index. This is similar to indexing lists in Python."
   ]
  },
  {
   "cell_type": "code",
   "execution_count": 22,
   "metadata": {},
   "outputs": [
    {
     "name": "stdout",
     "output_type": "stream",
     "text": [
      "ages        24\n",
      "heights    176\n",
      "Name: Amy, dtype: int64\n",
      "       ages  heights\n",
      "James    14      165\n",
      "Bob      18      180\n",
      "Amy      24      176\n",
      "     ages  heights\n",
      "Bob    18      180\n",
      "Amy    24      176\n"
     ]
    }
   ],
   "source": [
    "import pandas as pd\n",
    "\n",
    "data = {\n",
    "   'ages': [14, 18, 24, 42],\n",
    "   'heights': [165, 180, 176, 184]\n",
    "}\n",
    "\n",
    "df = pd.DataFrame(data, index=['James', 'Bob', 'Amy', 'Dave'])\n",
    "\n",
    "# third row\n",
    "print(df.iloc[2])\n",
    "\n",
    "#first 3 rows\n",
    "print(df.iloc[:3])\n",
    "\n",
    "# rows 2 to 3\n",
    "print(df.iloc[1:3])"
   ]
  },
  {
   "cell_type": "markdown",
   "metadata": {},
   "source": [
    "### Conditions\n",
    "Data can be selected based on conditions"
   ]
  },
  {
   "cell_type": "code",
   "execution_count": null,
   "metadata": {},
   "outputs": [],
   "source": [
    "import pandas as pd\n",
    "\n",
    "data = {\n",
    "   'ages': [14, 18, 24, 42],\n",
    "   'heights': [165, 180, 176, 184]\n",
    "}\n",
    "\n",
    "df = pd.DataFrame(data, index=['James', 'Bob', 'Amy', 'Dave'])\n",
    "\n",
    "print(df[(df['ages']>18) & (df['heights']>180)])"
   ]
  },
  {
   "cell_type": "markdown",
   "metadata": {},
   "source": [
    "Similarly, | can be used<br>\n",
    "In the below example, rank column data is used to print name data "
   ]
  },
  {
   "cell_type": "code",
   "execution_count": null,
   "metadata": {},
   "outputs": [],
   "source": [
    "import pandas as pd\n",
    "\n",
    "data = {\n",
    "   'name': ['James', 'Billy', 'Bob', 'Amy', 'Tom', 'Harry'],\n",
    "   'rank': [4, 1, 3, 5, 2, 6]\n",
    "}\n",
    "\n",
    "df = pd.DataFrame(data, index=data['name'])\n",
    "user_rank = int(input())\n",
    "print(df['name'][df['rank'] == user_rank])"
   ]
  },
  {
   "cell_type": "markdown",
   "metadata": {},
   "source": [
    "### Reading Data\n",
    "read_csv() function is used to read CSV file data into a DataFrame"
   ]
  },
  {
   "cell_type": "code",
   "execution_count": null,
   "metadata": {},
   "outputs": [],
   "source": [
    "df = pd.read_csv(\"ca-covid.csv\")"
   ]
  },
  {
   "cell_type": "markdown",
   "metadata": {},
   "source": [
    "Pandas also support JSON and SQL databases<br>\n",
    "first 5 row data is given by head() function of the DataFrame"
   ]
  },
  {
   "cell_type": "code",
   "execution_count": 2,
   "metadata": {},
   "outputs": [
    {
     "name": "stdout",
     "output_type": "stream",
     "text": [
      "       date       state  cases  deaths\n",
      "0  25.01.20  California      1       0\n",
      "1  26.01.20  California      1       0\n",
      "2  27.01.20  California      0       0\n",
      "3  28.01.20  California      0       0\n",
      "4  29.01.20  California      0       0\n"
     ]
    }
   ],
   "source": [
    "import pandas as pd\n",
    "\n",
    "df = pd.read_csv(\"https://www.sololearn.com/uploads/ca-covid.csv\")\n",
    "\n",
    "print(df.head())"
   ]
  },
  {
   "cell_type": "markdown",
   "metadata": {},
   "source": [
    "df.head(10) will return first 10 rows. Likewise, the number of rows needed to print can be specified<br>\n",
    "Similarly, last rows is given by tail() function<br>\n",
    "info() is used to get information about the dataset such as number of rows, columns, data types, etc"
   ]
  },
  {
   "cell_type": "code",
   "execution_count": 3,
   "metadata": {},
   "outputs": [
    {
     "name": "stdout",
     "output_type": "stream",
     "text": [
      "<class 'pandas.core.frame.DataFrame'>\n",
      "RangeIndex: 342 entries, 0 to 341\n",
      "Data columns (total 4 columns):\n",
      " #   Column  Non-Null Count  Dtype \n",
      "---  ------  --------------  ----- \n",
      " 0   date    342 non-null    object\n",
      " 1   state   342 non-null    object\n",
      " 2   cases   342 non-null    int64 \n",
      " 3   deaths  342 non-null    int64 \n",
      "dtypes: int64(2), object(2)\n",
      "memory usage: 10.8+ KB\n"
     ]
    }
   ],
   "source": [
    "import pandas as pd\n",
    "\n",
    "df = pd.read_csv(\"https://www.sololearn.com/uploads/ca-covid.csv\")\n",
    "\n",
    "df.info()"
   ]
  },
  {
   "cell_type": "markdown",
   "metadata": {},
   "source": [
    "Here, this dataset has an auto-generated index. We can set our own index using set_index() function"
   ]
  },
  {
   "cell_type": "code",
   "execution_count": 6,
   "metadata": {},
   "outputs": [
    {
     "name": "stdout",
     "output_type": "stream",
     "text": [
      "               state  cases  deaths\n",
      "date                               \n",
      "25.01.20  California      1       0\n",
      "26.01.20  California      1       0\n",
      "27.01.20  California      0       0\n",
      "28.01.20  California      0       0\n",
      "29.01.20  California      0       0\n"
     ]
    }
   ],
   "source": [
    "import pandas as pd\n",
    "\n",
    "df = pd.read_csv(\"https://www.sololearn.com/uploads/ca-covid.csv\")\n",
    "df.set_index(\"date\", inplace=True)\n",
    "\n",
    "print(df.head())"
   ]
  },
  {
   "cell_type": "markdown",
   "metadata": {},
   "source": [
    "Date column is a good index since there's each row for each date<br>\n",
    "inplace = True means change will be applied to our DataFrame without the need of assigning it to a new variable"
   ]
  },
  {
   "cell_type": "markdown",
   "metadata": {},
   "source": [
    "### Dropping a Column"
   ]
  },
  {
   "cell_type": "code",
   "execution_count": 9,
   "metadata": {},
   "outputs": [
    {
     "name": "stdout",
     "output_type": "stream",
     "text": [
      "<class 'pandas.core.frame.DataFrame'>\n",
      "Index: 342 entries, 25.01.20 to 31.12.20\n",
      "Data columns (total 2 columns):\n",
      " #   Column  Non-Null Count  Dtype\n",
      "---  ------  --------------  -----\n",
      " 0   cases   342 non-null    int64\n",
      " 1   deaths  342 non-null    int64\n",
      "dtypes: int64(2)\n",
      "memory usage: 8.0+ KB\n"
     ]
    }
   ],
   "source": [
    "import pandas as pd\n",
    "\n",
    "df = pd.read_csv(\"https://www.sololearn.com/uploads/ca-covid.csv\")\n",
    "df.set_index('date', inplace=True)\n",
    "df.drop('state', axis=1, inplace=True)\n",
    "\n",
    "df.info()"
   ]
  },
  {
   "cell_type": "markdown",
   "metadata": {},
   "source": [
    "Now, there are only 2 columns since one of them is used as an index and other one is dropped. <br>\n",
    "axis = 1 drops a column while axis = 0 drops a row"
   ]
  },
  {
   "cell_type": "markdown",
   "metadata": {},
   "source": [
    "### Creating Columns\n",
    "Here, month columns is created based on date column"
   ]
  },
  {
   "cell_type": "code",
   "execution_count": 1,
   "metadata": {},
   "outputs": [
    {
     "name": "stdout",
     "output_type": "stream",
     "text": [
      "          cases  deaths    month\n",
      "date                            \n",
      "25.01.20      1       0  January\n",
      "26.01.20      1       0  January\n",
      "27.01.20      0       0  January\n",
      "28.01.20      0       0  January\n",
      "29.01.20      0       0  January\n"
     ]
    }
   ],
   "source": [
    "import pandas as pd\n",
    "\n",
    "df = pd.read_csv(\"https://www.sololearn.com/uploads/ca-covid.csv\")\n",
    "\n",
    "df.drop('state', axis=1, inplace=True)\n",
    "\n",
    "df['month'] = pd.to_datetime(df['date'], format=\"%d.%m.%y\").dt.month_name()\n",
    "\n",
    "df.set_index('date', inplace=True)\n",
    "\n",
    "print(df.head())"
   ]
  }
 ],
 "metadata": {
  "kernelspec": {
   "display_name": "Python 3.10.5 64-bit",
   "language": "python",
   "name": "python3"
  },
  "language_info": {
   "codemirror_mode": {
    "name": "ipython",
    "version": 3
   },
   "file_extension": ".py",
   "mimetype": "text/x-python",
   "name": "python",
   "nbconvert_exporter": "python",
   "pygments_lexer": "ipython3",
   "version": "3.10.5"
  },
  "orig_nbformat": 4,
  "vscode": {
   "interpreter": {
    "hash": "a29360cb1ef4765612ef6cde7c85a613016b0e56e7752f09e1e6610f9dd02e85"
   }
  }
 },
 "nbformat": 4,
 "nbformat_minor": 2
}
